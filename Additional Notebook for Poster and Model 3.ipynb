{
 "cells": [
  {
   "cell_type": "markdown",
   "metadata": {},
   "source": [
    "## Additional Notebook to the Project C9!"
   ]
  },
  {
   "cell_type": "markdown",
   "metadata": {},
   "source": [
    "This notebook used for visualise the barchart of dog breed count for poster and additionally, train one more model, which is Model 3. We will see how to use Keras and TensorFlow to build, train, and test a Convolutional Neural Network capable of identifying the breed of a dog in a supplied image."
   ]
  },
  {
   "cell_type": "code",
   "execution_count": 2,
   "metadata": {
    "_cell_guid": "499ebdfb-fede-4ba2-9ff4-067292f9a865",
    "_uuid": "ae0df6a520487e080515d7a76cf955d095b483c0",
    "execution": {
     "iopub.execute_input": "2022-12-10T20:13:37.376039Z",
     "iopub.status.busy": "2022-12-10T20:13:37.375341Z",
     "iopub.status.idle": "2022-12-10T20:13:38.380648Z",
     "shell.execute_reply": "2022-12-10T20:13:38.379649Z",
     "shell.execute_reply.started": "2022-12-10T20:13:37.375956Z"
    }
   },
   "outputs": [],
   "source": [
    "import numpy as np          \n",
    "import pandas as pd     \n",
    "from random import randint\n",
    "from numpy import asarray #to make img into arra\n",
    "import cv2\n",
    "import matplotlib.pyplot as plt"
   ]
  },
  {
   "cell_type": "code",
   "execution_count": 4,
   "metadata": {
    "execution": {
     "iopub.execute_input": "2022-12-10T20:13:40.955694Z",
     "iopub.status.busy": "2022-12-10T20:13:40.955199Z",
     "iopub.status.idle": "2022-12-10T20:13:44.786436Z",
     "shell.execute_reply": "2022-12-10T20:13:44.785572Z",
     "shell.execute_reply.started": "2022-12-10T20:13:40.955643Z"
    }
   },
   "outputs": [],
   "source": [
    "from keras.preprocessing import image\n",
    "from sklearn.preprocessing import label_binarize\n",
    "from sklearn.model_selection import train_test_split\n",
    "from keras.models import Sequential\n",
    "from keras.layers import Dense, Dropout, Flatten, Conv2D, MaxPool2D\n",
    "from keras.optimizers import Adam"
   ]
  },
  {
   "cell_type": "code",
   "execution_count": 6,
   "metadata": {
    "_cell_guid": "1a219277-cf22-4d2d-84cf-3b421f591913",
    "_uuid": "8a9e1edb957ac7a7706a2248902f87ca8b39bc0f",
    "execution": {
     "iopub.execute_input": "2022-12-10T20:13:47.582309Z",
     "iopub.status.busy": "2022-12-10T20:13:47.581695Z",
     "iopub.status.idle": "2022-12-10T20:13:47.635356Z",
     "shell.execute_reply": "2022-12-10T20:13:47.634462Z",
     "shell.execute_reply.started": "2022-12-10T20:13:47.582236Z"
    }
   },
   "outputs": [
    {
     "data": {
      "text/html": [
       "<div>\n",
       "<style scoped>\n",
       "    .dataframe tbody tr th:only-of-type {\n",
       "        vertical-align: middle;\n",
       "    }\n",
       "\n",
       "    .dataframe tbody tr th {\n",
       "        vertical-align: top;\n",
       "    }\n",
       "\n",
       "    .dataframe thead th {\n",
       "        text-align: right;\n",
       "    }\n",
       "</style>\n",
       "<table border=\"1\" class=\"dataframe\">\n",
       "  <thead>\n",
       "    <tr style=\"text-align: right;\">\n",
       "      <th></th>\n",
       "      <th>id</th>\n",
       "      <th>breed</th>\n",
       "    </tr>\n",
       "  </thead>\n",
       "  <tbody>\n",
       "    <tr>\n",
       "      <th>0</th>\n",
       "      <td>000bec180eb18c7604dcecc8fe0dba07</td>\n",
       "      <td>boston_bull</td>\n",
       "    </tr>\n",
       "    <tr>\n",
       "      <th>1</th>\n",
       "      <td>001513dfcb2ffafc82cccf4d8bbaba97</td>\n",
       "      <td>dingo</td>\n",
       "    </tr>\n",
       "    <tr>\n",
       "      <th>2</th>\n",
       "      <td>001cdf01b096e06d78e9e5112d419397</td>\n",
       "      <td>pekinese</td>\n",
       "    </tr>\n",
       "    <tr>\n",
       "      <th>3</th>\n",
       "      <td>00214f311d5d2247d5dfe4fe24b2303d</td>\n",
       "      <td>bluetick</td>\n",
       "    </tr>\n",
       "    <tr>\n",
       "      <th>4</th>\n",
       "      <td>0021f9ceb3235effd7fcde7f7538ed62</td>\n",
       "      <td>golden_retriever</td>\n",
       "    </tr>\n",
       "  </tbody>\n",
       "</table>\n",
       "</div>"
      ],
      "text/plain": [
       "                                 id             breed\n",
       "0  000bec180eb18c7604dcecc8fe0dba07       boston_bull\n",
       "1  001513dfcb2ffafc82cccf4d8bbaba97             dingo\n",
       "2  001cdf01b096e06d78e9e5112d419397          pekinese\n",
       "3  00214f311d5d2247d5dfe4fe24b2303d          bluetick\n",
       "4  0021f9ceb3235effd7fcde7f7538ed62  golden_retriever"
      ]
     },
     "execution_count": 6,
     "metadata": {},
     "output_type": "execute_result"
    }
   ],
   "source": [
    "df_train = pd.read_csv(\"labels.csv\")\n",
    "df_train.head()"
   ]
  },
  {
   "cell_type": "markdown",
   "metadata": {},
   "source": [
    "### Visualisation of Top 20 dog breeds by count\n",
    "\n",
    "Inspired by reference #1 (Reference section in the end of the notebook!)."
   ]
  },
  {
   "cell_type": "code",
   "execution_count": 7,
   "metadata": {
    "execution": {
     "iopub.execute_input": "2022-12-10T22:04:15.278347Z",
     "iopub.status.busy": "2022-12-10T22:04:15.277515Z",
     "iopub.status.idle": "2022-12-10T22:04:15.546901Z",
     "shell.execute_reply": "2022-12-10T22:04:15.546107Z",
     "shell.execute_reply.started": "2022-12-10T22:04:15.278272Z"
    }
   },
   "outputs": [
    {
     "data": {
      "image/png": "[encoded data removed]",
      "text/plain": [
       "<Figure size 1080x576 with 1 Axes>"
      ]
     },
     "metadata": {
      "needs_background": "light"
     },
     "output_type": "display_data"
    }
   ],
   "source": [
    "df_train.groupby('breed')['breed'] \\\n",
    "    .count() \\\n",
    "    .reset_index(name='count') \\\n",
    "    .sort_values(by = 'count',ascending=False) \\\n",
    "    .head(10) \\\n",
    "    .plot.bar(x = 'breed',y = 'count',figsize=(15,8))\n",
    "plt.title('Top 20 Dog Breeds by count')\n",
    "plt.show()\n"
   ]
  },
  {
   "cell_type": "code",
   "execution_count": 9,
   "metadata": {
    "_cell_guid": "a55f656a-1af1-4ee1-814d-86f984692f7f",
    "_uuid": "f41baaf90b16b8957a86a847aa98f723c520655d",
    "execution": {
     "iopub.execute_input": "2022-12-10T20:14:15.459033Z",
     "iopub.status.busy": "2022-12-10T20:14:15.458674Z",
     "iopub.status.idle": "2022-12-10T20:16:13.529954Z",
     "shell.execute_reply": "2022-12-10T20:16:13.529134Z",
     "shell.execute_reply.started": "2022-12-10T20:14:15.458981Z"
    }
   },
   "outputs": [],
   "source": [
    "img_width=290\n",
    "img_height=290\n",
    "images=[]\n",
    "classes=[]\n",
    "#load training images\n",
    "for f, breed in (df_train.values):\n",
    "    img = cv2.imread('train/{}.jpg'.format(f))\n",
    "    classes.append(breed)\n",
    "    images.append(cv2.resize(img, (img_width, img_height)))"
   ]
  },
  {
   "cell_type": "code",
   "execution_count": 10,
   "metadata": {
    "execution": {
     "iopub.execute_input": "2022-12-10T20:18:50.030724Z",
     "iopub.status.busy": "2022-12-10T20:18:50.030011Z",
     "iopub.status.idle": "2022-12-10T20:18:50.050331Z",
     "shell.execute_reply": "2022-12-10T20:18:50.049461Z",
     "shell.execute_reply.started": "2022-12-10T20:18:50.030650Z"
    }
   },
   "outputs": [
    {
     "data": {
      "text/html": [
       "<div>\n",
       "<style>\n",
       "    .dataframe thead tr:only-child th {\n",
       "        text-align: right;\n",
       "    }\n",
       "\n",
       "    .dataframe thead th {\n",
       "        text-align: left;\n",
       "    }\n",
       "\n",
       "    .dataframe tbody tr th {\n",
       "        vertical-align: top;\n",
       "    }\n",
       "</style>\n",
       "<table border=\"1\" class=\"dataframe\">\n",
       "  <thead>\n",
       "    <tr style=\"text-align: right;\">\n",
       "      <th></th>\n",
       "      <th>index</th>\n",
       "      <th>id</th>\n",
       "      <th>breed</th>\n",
       "    </tr>\n",
       "  </thead>\n",
       "  <tbody>\n",
       "    <tr>\n",
       "      <th>0</th>\n",
       "      <td>9</td>\n",
       "      <td>0042188c895a2f14ef64a918ed9c7b64</td>\n",
       "      <td>scottish_deerhound</td>\n",
       "    </tr>\n",
       "    <tr>\n",
       "      <th>1</th>\n",
       "      <td>12</td>\n",
       "      <td>00693b8bc2470375cc744a6391d397ec</td>\n",
       "      <td>maltese_dog</td>\n",
       "    </tr>\n",
       "    <tr>\n",
       "      <th>2</th>\n",
       "      <td>79</td>\n",
       "      <td>01e787576c003930f96c966f9c3e1d44</td>\n",
       "      <td>scottish_deerhound</td>\n",
       "    </tr>\n",
       "    <tr>\n",
       "      <th>3</th>\n",
       "      <td>90</td>\n",
       "      <td>022b34fd8734b39995a9f38a4f3e7b6b</td>\n",
       "      <td>maltese_dog</td>\n",
       "    </tr>\n",
       "    <tr>\n",
       "      <th>4</th>\n",
       "      <td>118</td>\n",
       "      <td>02d54f0dfb40038765e838459ae8c956</td>\n",
       "      <td>bernese_mountain_dog</td>\n",
       "    </tr>\n",
       "  </tbody>\n",
       "</table>\n",
       "</div>"
      ],
      "text/plain": [
       "   index                                id                 breed\n",
       "0      9  0042188c895a2f14ef64a918ed9c7b64    scottish_deerhound\n",
       "1     12  00693b8bc2470375cc744a6391d397ec           maltese_dog\n",
       "2     79  01e787576c003930f96c966f9c3e1d44    scottish_deerhound\n",
       "3     90  022b34fd8734b39995a9f38a4f3e7b6b           maltese_dog\n",
       "4    118  02d54f0dfb40038765e838459ae8c956  bernese_mountain_dog"
      ]
     },
     "execution_count": 10,
     "metadata": {},
     "output_type": "execute_result"
    }
   ],
   "source": [
    "CLASS_NAMES = ['scottish_deerhound','maltese_dog','bernese_mountain_dog']\n",
    "labels = df_train[(df_train['breed'].isin(CLASS_NAMES))]\n",
    "labels = labels.reset_index()\n",
    "labels.head()"
   ]
  },
  {
   "cell_type": "markdown",
   "metadata": {},
   "source": [
    "Some of the code below was taken from Hamed Etezadi's notebook for one hot encoding and normalization. See references #2!"
   ]
  },
  {
   "cell_type": "code",
   "execution_count": 11,
   "metadata": {
    "execution": {
     "iopub.execute_input": "2022-12-10T20:18:54.531548Z",
     "iopub.status.busy": "2022-12-10T20:18:54.530905Z",
     "iopub.status.idle": "2022-12-10T20:18:56.663731Z",
     "shell.execute_reply": "2022-12-10T20:18:56.662969Z",
     "shell.execute_reply.started": "2022-12-10T20:18:54.531490Z"
    }
   },
   "outputs": [
    {
     "name": "stdout",
     "output_type": "stream",
     "text": [
      "\n",
      "Train Images shape:  (357, 224, 224, 3)  size: 53,738,496\n",
      "One-hot encoded output shape:  (357, 3)  size: 1,071\n"
     ]
    }
   ],
   "source": [
    "# Creating numpy matrix with zeros\n",
    "X_data = np.zeros((len(labels), 224, 224, 3), dtype='float32')\n",
    "# One hot encoding\n",
    "Y_data = label_binarize(labels['breed'], classes = CLASS_NAMES)\n",
    "\n",
    "# Reading and converting image to numpy array and normalizing dataset\n",
    "for i in range(len(labels)):\n",
    "    img = image.load_img('../input/train/%s.jpg' % labels['id'][i], target_size=(224, 224))\n",
    "    img = asarray(img) #this needs to be an array\n",
    "    x = np.expand_dims(img.copy(), axis=0)\n",
    "    X_data[i] = x / 255.0\n",
    "    \n",
    "# Printing train image and one hot encode shape & size\n",
    "print('\\nTrain Images shape: ',X_data.shape,' size: {:,}'.format(X_data.size))\n",
    "print('One-hot encoded output shape: ',Y_data.shape,' size: {:,}'.format(Y_data.size))"
   ]
  },
  {
   "cell_type": "markdown",
   "metadata": {},
   "source": [
    "### Building the classification model : Model 3\n",
    "In this model, we won't use any pre-trained layers or architecture, but we build our own. The motivation behind this, came from one of the notebooks, we came across in the research stage. See reference #2 (Reference section in the end of the notebook!)"
   ]
  },
  {
   "cell_type": "code",
   "execution_count": 13,
   "metadata": {
    "execution": {
     "iopub.execute_input": "2022-12-10T20:19:31.645262Z",
     "iopub.status.busy": "2022-12-10T20:19:31.644707Z",
     "iopub.status.idle": "2022-12-10T20:19:31.791421Z",
     "shell.execute_reply": "2022-12-10T20:19:31.790722Z",
     "shell.execute_reply.started": "2022-12-10T20:19:31.645178Z"
    }
   },
   "outputs": [
    {
     "name": "stdout",
     "output_type": "stream",
     "text": [
      "_________________________________________________________________\n",
      "Layer (type)                 Output Shape              Param #   \n",
      "=================================================================\n",
      "conv2d_5 (Conv2D)            (None, 220, 220, 64)      4864      \n",
      "_________________________________________________________________\n",
      "max_pooling2d_5 (MaxPooling2 (None, 110, 110, 64)      0         \n",
      "_________________________________________________________________\n",
      "conv2d_6 (Conv2D)            (None, 108, 108, 32)      18464     \n",
      "_________________________________________________________________\n",
      "max_pooling2d_6 (MaxPooling2 (None, 54, 54, 32)        0         \n",
      "_________________________________________________________________\n",
      "conv2d_7 (Conv2D)            (None, 48, 48, 16)        25104     \n",
      "_________________________________________________________________\n",
      "max_pooling2d_7 (MaxPooling2 (None, 24, 24, 16)        0         \n",
      "_________________________________________________________________\n",
      "conv2d_8 (Conv2D)            (None, 20, 20, 8)         3208      \n",
      "_________________________________________________________________\n",
      "max_pooling2d_8 (MaxPooling2 (None, 10, 10, 8)         0         \n",
      "_________________________________________________________________\n",
      "flatten_2 (Flatten)          (None, 800)               0         \n",
      "_________________________________________________________________\n",
      "dense_4 (Dense)              (None, 128)               102528    \n",
      "_________________________________________________________________\n",
      "dense_5 (Dense)              (None, 64)                8256      \n",
      "_________________________________________________________________\n",
      "dense_6 (Dense)              (None, 3)                 195       \n",
      "=================================================================\n",
      "Total params: 162,619\n",
      "Trainable params: 162,619\n",
      "Non-trainable params: 0\n",
      "_________________________________________________________________\n"
     ]
    }
   ],
   "source": [
    "# Building the Model, Sequential was chosen after looking online\n",
    "#how different models work, we chose this and are experimenting with parameters.\n",
    "model = Sequential()\n",
    "\n",
    "model.add(Conv2D(filters = 64, kernel_size = (5,5), activation ='relu', input_shape = (224,224,3)))\n",
    "model.add(MaxPool2D(pool_size=(2,2)))\n",
    "\n",
    "model.add(Conv2D(filters = 32, kernel_size = (3,3), activation ='relu', kernel_regularizer = 'l2'))\n",
    "model.add(MaxPool2D(pool_size=(2,2)))\n",
    "\n",
    "model.add(Conv2D(filters = 16, kernel_size = (7,7), activation ='relu', kernel_regularizer = 'l2'))\n",
    "model.add(MaxPool2D(pool_size=(2,2)))\n",
    "\n",
    "model.add(Conv2D(filters = 8, kernel_size = (5,5), activation ='relu', kernel_regularizer = 'l2'))\n",
    "model.add(MaxPool2D(pool_size=(2,2)))\n",
    "\n",
    "model.add(Flatten())\n",
    "model.add(Dense(128, activation = \"relu\", kernel_regularizer = 'l2'))\n",
    "model.add(Dense(64, activation = \"relu\", kernel_regularizer = 'l2'))\n",
    "model.add(Dense(len(CLASS_NAMES), activation = \"softmax\"))\n",
    "\n",
    "model.compile(loss = 'categorical_crossentropy', optimizer = Adam(0.0001),metrics=['accuracy'])\n",
    "model.summary()"
   ]
  },
  {
   "cell_type": "code",
   "execution_count": 15,
   "metadata": {
    "execution": {
     "iopub.execute_input": "2022-12-10T20:19:56.760278Z",
     "iopub.status.busy": "2022-12-10T20:19:56.759562Z",
     "iopub.status.idle": "2022-12-10T20:19:57.188332Z",
     "shell.execute_reply": "2022-12-10T20:19:57.187584Z",
     "shell.execute_reply.started": "2022-12-10T20:19:56.760191Z"
    }
   },
   "outputs": [],
   "source": [
    "# Splitting the data set into training and testing data sets\n",
    "X_train_and_val, X_test, Y_train_and_val, Y_test = train_test_split(X_data, Y_data, test_size = 0.1)\n",
    "# Splitting the training data set into training and validation data sets\n",
    "X_train, X_val, Y_train, Y_val = train_test_split(X_train_and_val, Y_train_and_val, test_size = 0.2)"
   ]
  },
  {
   "cell_type": "markdown",
   "metadata": {},
   "source": [
    "Now we are going to train this model, I am using epochs 50-60 and experimenting with different variables"
   ]
  },
  {
   "cell_type": "code",
   "execution_count": 18,
   "metadata": {
    "execution": {
     "iopub.execute_input": "2022-12-10T20:39:27.744159Z",
     "iopub.status.busy": "2022-12-10T20:39:27.743278Z",
     "iopub.status.idle": "2022-12-10T21:27:41.325434Z",
     "shell.execute_reply": "2022-12-10T21:27:41.324441Z",
     "shell.execute_reply.started": "2022-12-10T20:39:27.744081Z"
    }
   },
   "outputs": [
    {
     "name": "stdout",
     "output_type": "stream",
     "text": [
      "Train on 256 samples, validate on 65 samples\n",
      "Epoch 1/60\n",
      "256/256 [==============================] - 47s 185ms/step - loss: 4.2679 - acc: 0.5820 - val_loss: 4.2517 - val_acc: 0.5692\n",
      "Epoch 2/60\n",
      "256/256 [==============================] - 48s 186ms/step - loss: 4.2282 - acc: 0.6133 - val_loss: 4.2138 - val_acc: 0.6308\n",
      "Epoch 3/60\n",
      "256/256 [==============================] - 47s 185ms/step - loss: 4.1898 - acc: 0.6758 - val_loss: 4.1723 - val_acc: 0.6462\n",
      "Epoch 4/60\n",
      "256/256 [==============================] - 47s 185ms/step - loss: 4.1471 - acc: 0.6953 - val_loss: 4.1263 - val_acc: 0.6769\n",
      "Epoch 5/60\n",
      "256/256 [==============================] - 47s 185ms/step - loss: 4.1019 - acc: 0.6875 - val_loss: 4.0788 - val_acc: 0.7231\n",
      "Epoch 6/60\n",
      "256/256 [==============================] - 48s 186ms/step - loss: 4.0540 - acc: 0.6914 - val_loss: 4.0358 - val_acc: 0.6154\n",
      "Epoch 7/60\n",
      "256/256 [==============================] - 48s 186ms/step - loss: 4.0031 - acc: 0.7031 - val_loss: 3.9828 - val_acc: 0.6769\n",
      "Epoch 8/60\n",
      "256/256 [==============================] - 48s 187ms/step - loss: 3.9502 - acc: 0.7188 - val_loss: 3.9315 - val_acc: 0.6769\n",
      "Epoch 9/60\n",
      "256/256 [==============================] - 47s 185ms/step - loss: 3.9013 - acc: 0.6992 - val_loss: 3.8858 - val_acc: 0.6308\n",
      "Epoch 10/60\n",
      "256/256 [==============================] - 48s 187ms/step - loss: 3.8477 - acc: 0.7148 - val_loss: 3.8352 - val_acc: 0.6769\n",
      "Epoch 11/60\n",
      "256/256 [==============================] - 47s 185ms/step - loss: 3.8016 - acc: 0.7266 - val_loss: 3.8039 - val_acc: 0.6462\n",
      "Epoch 12/60\n",
      "256/256 [==============================] - 48s 186ms/step - loss: 3.7583 - acc: 0.7461 - val_loss: 3.7471 - val_acc: 0.7231\n",
      "Epoch 13/60\n",
      "256/256 [==============================] - 47s 185ms/step - loss: 3.7190 - acc: 0.7383 - val_loss: 3.7129 - val_acc: 0.6615\n",
      "Epoch 14/60\n",
      "256/256 [==============================] - 48s 186ms/step - loss: 3.7040 - acc: 0.7383 - val_loss: 3.6746 - val_acc: 0.7077\n",
      "Epoch 15/60\n",
      "256/256 [==============================] - 47s 185ms/step - loss: 3.6752 - acc: 0.7188 - val_loss: 3.6479 - val_acc: 0.6923\n",
      "Epoch 16/60\n",
      "256/256 [==============================] - 48s 186ms/step - loss: 3.6327 - acc: 0.7617 - val_loss: 3.6811 - val_acc: 0.7077\n",
      "Epoch 17/60\n",
      "256/256 [==============================] - 47s 185ms/step - loss: 3.6038 - acc: 0.7773 - val_loss: 3.5903 - val_acc: 0.7538\n",
      "Epoch 18/60\n",
      "256/256 [==============================] - 48s 187ms/step - loss: 3.5933 - acc: 0.7383 - val_loss: 3.5629 - val_acc: 0.7385\n",
      "Epoch 19/60\n",
      "256/256 [==============================] - 48s 186ms/step - loss: 3.5466 - acc: 0.7617 - val_loss: 3.5973 - val_acc: 0.7231\n",
      "Epoch 20/60\n",
      "256/256 [==============================] - 48s 186ms/step - loss: 3.5423 - acc: 0.7891 - val_loss: 3.5234 - val_acc: 0.7077\n",
      "Epoch 21/60\n",
      "256/256 [==============================] - 47s 185ms/step - loss: 3.5028 - acc: 0.7812 - val_loss: 3.5095 - val_acc: 0.7385\n",
      "Epoch 22/60\n",
      "256/256 [==============================] - 48s 186ms/step - loss: 3.4737 - acc: 0.8047 - val_loss: 3.5007 - val_acc: 0.7385\n",
      "Epoch 23/60\n",
      "256/256 [==============================] - 48s 186ms/step - loss: 3.4559 - acc: 0.7969 - val_loss: 3.4560 - val_acc: 0.7385\n",
      "Epoch 24/60\n",
      "256/256 [==============================] - 48s 187ms/step - loss: 3.4358 - acc: 0.7969 - val_loss: 3.4513 - val_acc: 0.7538\n",
      "Epoch 25/60\n",
      "256/256 [==============================] - 47s 185ms/step - loss: 3.4056 - acc: 0.8086 - val_loss: 3.4420 - val_acc: 0.7385\n",
      "Epoch 26/60\n",
      "256/256 [==============================] - 47s 185ms/step - loss: 3.3870 - acc: 0.8281 - val_loss: 3.4111 - val_acc: 0.7538\n",
      "Epoch 27/60\n",
      "256/256 [==============================] - 48s 187ms/step - loss: 3.3668 - acc: 0.8125 - val_loss: 3.3978 - val_acc: 0.7692\n",
      "Epoch 28/60\n",
      "256/256 [==============================] - 47s 185ms/step - loss: 3.3428 - acc: 0.8125 - val_loss: 3.3908 - val_acc: 0.7385\n",
      "Epoch 29/60\n",
      "256/256 [==============================] - 48s 186ms/step - loss: 3.3229 - acc: 0.8281 - val_loss: 3.3642 - val_acc: 0.7385\n",
      "Epoch 30/60\n",
      "256/256 [==============================] - 48s 187ms/step - loss: 3.3014 - acc: 0.8359 - val_loss: 3.3663 - val_acc: 0.7385\n",
      "Epoch 31/60\n",
      "256/256 [==============================] - 47s 185ms/step - loss: 3.2815 - acc: 0.8359 - val_loss: 3.3390 - val_acc: 0.7692\n",
      "Epoch 32/60\n",
      "256/256 [==============================] - 48s 186ms/step - loss: 3.2738 - acc: 0.8359 - val_loss: 3.3246 - val_acc: 0.7692\n",
      "Epoch 33/60\n",
      "256/256 [==============================] - 48s 186ms/step - loss: 3.2423 - acc: 0.8438 - val_loss: 3.3096 - val_acc: 0.7538\n",
      "Epoch 34/60\n",
      "256/256 [==============================] - 48s 187ms/step - loss: 3.2333 - acc: 0.8438 - val_loss: 3.3059 - val_acc: 0.7385\n",
      "Epoch 35/60\n",
      "256/256 [==============================] - 48s 187ms/step - loss: 3.2049 - acc: 0.8633 - val_loss: 3.2886 - val_acc: 0.8154\n",
      "Epoch 36/60\n",
      "256/256 [==============================] - 48s 188ms/step - loss: 3.1878 - acc: 0.8516 - val_loss: 3.3066 - val_acc: 0.7538\n",
      "Epoch 37/60\n",
      "256/256 [==============================] - 48s 189ms/step - loss: 3.1678 - acc: 0.8750 - val_loss: 3.2494 - val_acc: 0.7385\n",
      "Epoch 38/60\n",
      "256/256 [==============================] - 49s 192ms/step - loss: 3.1494 - acc: 0.8633 - val_loss: 3.2552 - val_acc: 0.7538\n",
      "Epoch 39/60\n",
      "256/256 [==============================] - 49s 190ms/step - loss: 3.1386 - acc: 0.8750 - val_loss: 3.2258 - val_acc: 0.8000\n",
      "Epoch 40/60\n",
      "256/256 [==============================] - 50s 194ms/step - loss: 3.1164 - acc: 0.8594 - val_loss: 3.2287 - val_acc: 0.7846\n",
      "Epoch 41/60\n",
      "256/256 [==============================] - 49s 193ms/step - loss: 3.1005 - acc: 0.8828 - val_loss: 3.2159 - val_acc: 0.7538\n",
      "Epoch 42/60\n",
      "256/256 [==============================] - 49s 191ms/step - loss: 3.0779 - acc: 0.8750 - val_loss: 3.1915 - val_acc: 0.7846\n",
      "Epoch 43/60\n",
      "256/256 [==============================] - 49s 192ms/step - loss: 3.0575 - acc: 0.8906 - val_loss: 3.2300 - val_acc: 0.7538\n",
      "Epoch 44/60\n",
      "256/256 [==============================] - 49s 190ms/step - loss: 3.0464 - acc: 0.8984 - val_loss: 3.1617 - val_acc: 0.8308\n",
      "Epoch 45/60\n",
      "256/256 [==============================] - 49s 191ms/step - loss: 3.0420 - acc: 0.8789 - val_loss: 3.1944 - val_acc: 0.7538\n",
      "Epoch 46/60\n",
      "256/256 [==============================] - 49s 190ms/step - loss: 3.0204 - acc: 0.8867 - val_loss: 3.1591 - val_acc: 0.7538\n",
      "Epoch 47/60\n",
      "256/256 [==============================] - 49s 191ms/step - loss: 2.9955 - acc: 0.8867 - val_loss: 3.1476 - val_acc: 0.8154\n",
      "Epoch 48/60\n",
      "256/256 [==============================] - 49s 190ms/step - loss: 2.9873 - acc: 0.8945 - val_loss: 3.1639 - val_acc: 0.7538\n",
      "Epoch 49/60\n",
      "256/256 [==============================] - 50s 194ms/step - loss: 2.9571 - acc: 0.9141 - val_loss: 3.0989 - val_acc: 0.8000\n",
      "Epoch 50/60\n",
      "256/256 [==============================] - 50s 193ms/step - loss: 2.9514 - acc: 0.9102 - val_loss: 3.1421 - val_acc: 0.7846\n",
      "Epoch 51/60\n",
      "256/256 [==============================] - 49s 191ms/step - loss: 2.9365 - acc: 0.8984 - val_loss: 3.0972 - val_acc: 0.8000\n",
      "Epoch 52/60\n",
      "256/256 [==============================] - 49s 190ms/step - loss: 2.9594 - acc: 0.8672 - val_loss: 3.1118 - val_acc: 0.7846\n",
      "Epoch 53/60\n",
      "256/256 [==============================] - 50s 194ms/step - loss: 2.9305 - acc: 0.8906 - val_loss: 3.1008 - val_acc: 0.7846\n",
      "Epoch 54/60\n",
      "256/256 [==============================] - 49s 192ms/step - loss: 2.8996 - acc: 0.9023 - val_loss: 3.0411 - val_acc: 0.8154\n",
      "Epoch 55/60\n",
      "256/256 [==============================] - 49s 191ms/step - loss: 2.8974 - acc: 0.8906 - val_loss: 3.1641 - val_acc: 0.7692\n",
      "Epoch 56/60\n",
      "256/256 [==============================] - 50s 197ms/step - loss: 2.8776 - acc: 0.9102 - val_loss: 3.0392 - val_acc: 0.8308\n",
      "Epoch 57/60\n",
      "256/256 [==============================] - 50s 194ms/step - loss: 2.8799 - acc: 0.8906 - val_loss: 3.0212 - val_acc: 0.8308\n",
      "Epoch 58/60\n",
      "256/256 [==============================] - 50s 194ms/step - loss: 2.8890 - acc: 0.8828 - val_loss: 3.1071 - val_acc: 0.7692\n",
      "Epoch 59/60\n",
      "256/256 [==============================] - 50s 194ms/step - loss: 2.8311 - acc: 0.9062 - val_loss: 3.0093 - val_acc: 0.8000\n",
      "Epoch 60/60\n",
      "256/256 [==============================] - 49s 193ms/step - loss: 2.8263 - acc: 0.9180 - val_loss: 3.0693 - val_acc: 0.8000\n"
     ]
    }
   ],
   "source": [
    "# Training the model\n",
    "epochs = 60\n",
    "batch_size = 128\n",
    "\n",
    "history = model.fit(X_train, Y_train, batch_size = batch_size, epochs = epochs, \n",
    "                    validation_data = (X_val, Y_val))"
   ]
  },
  {
   "cell_type": "markdown",
   "metadata": {},
   "source": [
    "### Predicting Model 3 on test data"
   ]
  },
  {
   "cell_type": "code",
   "execution_count": 19,
   "metadata": {
    "execution": {
     "iopub.execute_input": "2022-12-10T21:30:56.335966Z",
     "iopub.status.busy": "2022-12-10T21:30:56.335613Z",
     "iopub.status.idle": "2022-12-10T21:31:01.857366Z",
     "shell.execute_reply": "2022-12-10T21:31:01.856472Z",
     "shell.execute_reply.started": "2022-12-10T21:30:56.335903Z"
    }
   },
   "outputs": [
    {
     "name": "stdout",
     "output_type": "stream",
     "text": [
      "36/36 [==============================] - 3s 76ms/step\n",
      "Accuracy over the test set: 61.11 %\n"
     ]
    }
   ],
   "source": [
    "Y_pred = model.predict(X_test)\n",
    "score = model.evaluate(X_test, Y_test)\n",
    "print('Accuracy over the test set:', round((score[1]*100), 2), '%')"
   ]
  },
  {
   "cell_type": "markdown",
   "metadata": {},
   "source": [
    "# Referenes\n",
    "1. https://www.kaggle.com/code/methindor/dogbreeddatavisualisation\n",
    "2. https://www.kaggle.com/code/hamedetezadi/cnn-model-dog-breed-identification-ngos"
   ]
  }
 ],
 "metadata": {
  "kernelspec": {
   "display_name": "Python 3 (ipykernel)",
   "language": "python",
   "name": "python3"
  },
  "language_info": {
   "codemirror_mode": {
    "name": "ipython",
    "version": 3
   },
   "file_extension": ".py",
   "mimetype": "text/x-python",
   "name": "python",
   "nbconvert_exporter": "python",
   "pygments_lexer": "ipython3",
   "version": "3.9.12"
  }
 },
 "nbformat": 4,
 "nbformat_minor": 4
}
