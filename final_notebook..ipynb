{
 "cells": [
  {
   "cell_type": "markdown",
   "id": "342dc161",
   "metadata": {},
   "source": [
    "# Welcome to the Project C9: KAGGLE - DOG BREED CLASSIFIER"
   ]
  },
  {
   "cell_type": "markdown",
   "id": "8c1cedba",
   "metadata": {},
   "source": [
    "### The aim of the project is to build a model with high performance metrics to classify dog breeds by analyzing their features.\n",
    "\n",
    "The dataset used contains 120 dog breeds. We will train different models and choose the one with the highest performance."
   ]
  },
  {
   "cell_type": "markdown",
   "id": "be42ae8c",
   "metadata": {},
   "source": [
    "### Importing libraries"
   ]
  },
  {
   "cell_type": "code",
   "execution_count": 228,
   "id": "4b7216eb",
   "metadata": {},
   "outputs": [],
   "source": [
    "import numpy as np\n",
    "import pandas as pd\n",
    "import tensorflow as tf\n",
    "from tensorflow.keras.layers import Dense, GlobalAveragePooling2D, Dropout, Conv2D, MaxPool2D\n",
    "from tensorflow.keras.preprocessing.image import load_img, img_to_array\n",
    "from tensorflow.keras.wrappers.scikit_learn import KerasClassifier\n",
    "from sklearn.model_selection import train_test_split\n",
    "from sklearn.model_selection import GridSearchCV\n",
    "from sklearn.metrics import accuracy_score\n",
    "from sklearn.cluster import KMeans\n",
    "import matplotlib.pyplot as plt\n",
    "import copy\n",
    "import warnings\n",
    "warnings.simplefilter(action='ignore')"
   ]
  },
  {
   "cell_type": "markdown",
   "id": "a53e4b81",
   "metadata": {},
   "source": [
    "### Preparation of dataset"
   ]
  },
  {
   "cell_type": "code",
   "execution_count": 229,
   "id": "85d9e7d6",
   "metadata": {},
   "outputs": [],
   "source": [
    "#defining function for parsing every image in the dataset\n",
    "\n",
    "def _parse_function(filename, label):\n",
    "    image_string = tf.io.read_file(filename)\n",
    "    image_decoded = tf.image.decode_jpeg(image_string, channels=3)\n",
    "    image = tf.cast(image_decoded, tf.float32)\n",
    "    image = tf.image.resize(image, (224, 224))\n",
    "    image = 2*image/255.0-1\n",
    "    return image, label\n",
    "\n",
    "##reading data\n",
    "data = pd.read_csv(\"labels.csv\")\n",
    "label_to_int = {str(breed): idx for idx, breed in enumerate(data['breed'].unique())}\n",
    "\n",
    "## Split data into train(80%) and test(20%)\n",
    "X_train, X_test, y_train, y_test = train_test_split(data.id, data.breed, test_size=0.2, random_state=5)\n",
    "len_X_test = len(X_test)\n",
    "\n",
    "y_train = np.asarray([label_to_int[label] for label in y_train]).astype(np.int64)\n",
    "y_test = np.asarray([label_to_int[label] for label in y_test]).astype(np.int64)\n",
    "\n",
    "\n",
    "X_train = tf.constant([f'train/{str(image)}.jpg' for image in X_train.values])\n",
    "y_train = tf.constant(y_train)\n",
    "\n",
    "#create train dataset and parse using \"map\"\n",
    "train = tf.data.Dataset.from_tensor_slices((X_train, y_train))\n",
    "train = train.map(_parse_function).batch(17)\n",
    "\n",
    "X_test = tf.constant([f'train/{str(image)}.jpg' for image in X_test.values])\n",
    "y_test = tf.constant(y_test)\n",
    "\n",
    "#create test dataset and parse using \"map\"\n",
    "test = tf.data.Dataset.from_tensor_slices((X_test, y_test))\n",
    "test = test.map(_parse_function).batch(len_X_test)\n"
   ]
  },
  {
   "cell_type": "markdown",
   "id": "d156cee4",
   "metadata": {},
   "source": [
    "### Building the classification model : Model 1\n",
    "\n",
    "The Model 1 is based on MobileNetV2 architecture, which is convolutional neural network mainly known for efficient use for mobile and embedded vision applications. According to reference #1 (see Reference section in the end of the notebook!), the MobileNets has shown strong performance compared to other popular models on ImageNet classification, therefore we have chosen to give a try for classification of dog breed images."
   ]
  },
  {
   "cell_type": "code",
   "execution_count": 31,
   "id": "7622d20b",
   "metadata": {},
   "outputs": [],
   "source": [
    "base_layers = tf.keras.applications.MobileNetV2(input_shape=(224, 224, 3), include_top=False)\n",
    "base_layers.trainable = False"
   ]
  },
  {
   "cell_type": "code",
   "execution_count": 32,
   "id": "18ed4f53",
   "metadata": {},
   "outputs": [],
   "source": [
    "model = tf.keras.Sequential([\n",
    "    base_layers,\n",
    "    GlobalAveragePooling2D(),\n",
    "    Dropout(0.2),\n",
    "    Dense(120, activation='softmax')])"
   ]
  },
  {
   "cell_type": "code",
   "execution_count": 33,
   "id": "7e472d87",
   "metadata": {},
   "outputs": [],
   "source": [
    "model.compile(optimizer='adam', loss=tf.keras.losses.SparseCategoricalCrossentropy(), metrics=['accuracy'])"
   ]
  },
  {
   "cell_type": "code",
   "execution_count": 34,
   "id": "5cd7b2a3",
   "metadata": {},
   "outputs": [],
   "source": [
    "from keras import callbacks\n",
    "from keras.callbacks import EarlyStopping\n",
    "\n",
    "earlystopping = callbacks.EarlyStopping(monitor =\"loss\", \n",
    "                                        mode =\"min\", patience = 5, \n",
    "                                        restore_best_weights = True)"
   ]
  },
  {
   "cell_type": "code",
   "execution_count": 35,
   "id": "d84dd6b7",
   "metadata": {
    "scrolled": true
   },
   "outputs": [
    {
     "name": "stdout",
     "output_type": "stream",
     "text": [
      "Epoch 1/15\n",
      "481/481 [==============================] - 144s 295ms/step - loss: 1.4055 - accuracy: 0.6452\n",
      "Epoch 2/15\n",
      "481/481 [==============================] - 146s 303ms/step - loss: 0.4314 - accuracy: 0.8756\n",
      "Epoch 3/15\n",
      "481/481 [==============================] - 144s 300ms/step - loss: 0.2622 - accuracy: 0.9297\n",
      "Epoch 4/15\n",
      "481/481 [==============================] - 144s 299ms/step - loss: 0.1816 - accuracy: 0.9560\n",
      "Epoch 5/15\n",
      "481/481 [==============================] - 143s 296ms/step - loss: 0.1280 - accuracy: 0.9742\n",
      "Epoch 6/15\n",
      "481/481 [==============================] - 140s 292ms/step - loss: 0.0967 - accuracy: 0.9847\n",
      "Epoch 7/15\n",
      "481/481 [==============================] - 139s 290ms/step - loss: 0.0752 - accuracy: 0.9880\n",
      "Epoch 8/15\n",
      "481/481 [==============================] - 145s 302ms/step - loss: 0.0608 - accuracy: 0.9916\n",
      "Epoch 9/15\n",
      "481/481 [==============================] - 149s 309ms/step - loss: 0.0514 - accuracy: 0.9936\n",
      "Epoch 10/15\n",
      "481/481 [==============================] - 150s 312ms/step - loss: 0.0424 - accuracy: 0.9939\n",
      "Epoch 11/15\n",
      "481/481 [==============================] - 147s 306ms/step - loss: 0.0365 - accuracy: 0.9957\n",
      "Epoch 12/15\n",
      "481/481 [==============================] - 148s 307ms/step - loss: 0.0327 - accuracy: 0.9954\n",
      "Epoch 13/15\n",
      "481/481 [==============================] - 144s 299ms/step - loss: 0.0288 - accuracy: 0.9960\n",
      "Epoch 14/15\n",
      "481/481 [==============================] - 142s 295ms/step - loss: 0.0260 - accuracy: 0.9960\n",
      "Epoch 15/15\n",
      "481/481 [==============================] - 142s 294ms/step - loss: 0.0229 - accuracy: 0.9965\n"
     ]
    }
   ],
   "source": [
    "history = model.fit(train, epochs = 15, callbacks =[earlystopping], verbose = 1)"
   ]
  },
  {
   "cell_type": "markdown",
   "id": "dff52462",
   "metadata": {},
   "source": [
    "### Predicting Model 1 on test data"
   ]
  },
  {
   "cell_type": "code",
   "execution_count": 230,
   "id": "be30884c",
   "metadata": {},
   "outputs": [
    {
     "name": "stdout",
     "output_type": "stream",
     "text": [
      "64/64 [==============================] - 43s 677ms/step\n",
      "The accuracy on test data is 0.8117359413202934\n"
     ]
    }
   ],
   "source": [
    "X_test, y_test = zip(*test)\n",
    "y_pred = model.predict(X_test[:1])\n",
    "y_pred_int = [np.argmax(pred) for pred in y_pred]\n",
    "accuracy = accuracy_score(np.array(y_test)[0], y_pred_int)\n",
    "print(\"The accuracy on test data is\", accuracy)"
   ]
  },
  {
   "cell_type": "markdown",
   "id": "52eed235",
   "metadata": {},
   "source": [
    "### Let's look at training accuracy and loss curves of Model 1"
   ]
  },
  {
   "cell_type": "code",
   "execution_count": 38,
   "id": "90ab674c",
   "metadata": {},
   "outputs": [
    {
     "data": {
      "image/png": "[encoded data removed]",
      "text/plain": [
       "<Figure size 432x288 with 1 Axes>"
      ]
     },
     "metadata": {
      "needs_background": "light"
     },
     "output_type": "display_data"
    }
   ],
   "source": [
    "loss = history.history['loss']\n",
    "epochs = range(1, len(loss) + 1)\n",
    "plt.plot(epochs, loss, 'y', label='Training loss')\n",
    "plt.title('Training loss curve')\n",
    "plt.xlabel('Epochs')\n",
    "plt.ylabel('Loss')\n",
    "plt.show()"
   ]
  },
  {
   "cell_type": "code",
   "execution_count": 40,
   "id": "ccc44b08",
   "metadata": {},
   "outputs": [
    {
     "data": {
      "image/png": "[encoded data removed]",
      "text/plain": [
       "<Figure size 432x288 with 1 Axes>"
      ]
     },
     "metadata": {
      "needs_background": "light"
     },
     "output_type": "display_data"
    }
   ],
   "source": [
    "acc = history.history['accuracy']\n",
    "plt.plot(epochs, acc, 'y', label='Training accuracy', c = \"r\")\n",
    "plt.title('Training accuracy')\n",
    "plt.xlabel('Epochs')\n",
    "plt.ylabel('Accuracy')\n",
    "plt.show()"
   ]
  },
  {
   "cell_type": "markdown",
   "id": "ede06698",
   "metadata": {},
   "source": [
    "We can see from the curves that the model efficiently lears by training!"
   ]
  },
  {
   "cell_type": "markdown",
   "id": "4ebe0fad",
   "metadata": {},
   "source": [
    "### Let's look at confusion matrix of Model 1! \n",
    "#### Since we have 120 breeds (classes) and confusion matrix of 120 classes looks pretty ugly, so here is the example of first 20 classes "
   ]
  },
  {
   "cell_type": "code",
   "execution_count": 50,
   "id": "778f47c0",
   "metadata": {},
   "outputs": [
    {
     "data": {
      "image/png": "[encoded data removed]",
      "text/plain": [
       "<Figure size 432x288 with 2 Axes>"
      ]
     },
     "metadata": {
      "needs_background": "light"
     },
     "output_type": "display_data"
    }
   ],
   "source": [
    "from sklearn.metrics import confusion_matrix\n",
    "import seaborn as sns\n",
    "\n",
    "cm = confusion_matrix(np.array(y_test)[0], y_pred_int)\n",
    "\n",
    "## An example of confusion matrix for first 20 breeds (classes)\n",
    "ax = sns.heatmap(cm[:20, :20], annot=True, fmt=\".0f\")\n",
    "ax.xaxis.tick_top()"
   ]
  },
  {
   "cell_type": "markdown",
   "id": "635d795f",
   "metadata": {},
   "source": [
    "### Performance of classification model: Model 1"
   ]
  },
  {
   "cell_type": "code",
   "execution_count": 231,
   "id": "13cb2bad",
   "metadata": {
    "scrolled": true
   },
   "outputs": [
    {
     "name": "stdout",
     "output_type": "stream",
     "text": [
      "              precision    recall  f1-score   support\n",
      "\n",
      "           0       0.85      0.92      0.88        25\n",
      "           1       0.58      0.79      0.67        14\n",
      "           2       1.00      0.82      0.90        17\n",
      "           3       0.82      0.82      0.82        17\n",
      "           4       0.53      0.67      0.59        12\n",
      "           5       0.92      0.96      0.94        25\n",
      "           6       0.83      0.91      0.87        11\n",
      "           7       0.85      0.96      0.90        24\n",
      "           8       0.68      0.88      0.77        17\n",
      "           9       0.44      0.80      0.57        10\n",
      "          10       1.00      0.17      0.29        18\n",
      "          11       0.71      0.89      0.79        28\n",
      "          12       0.80      0.67      0.73        12\n",
      "          13       0.95      1.00      0.97        19\n",
      "          14       0.90      0.79      0.84        24\n",
      "          15       0.92      0.57      0.71        21\n",
      "          16       0.65      0.75      0.70        20\n",
      "          17       0.94      0.94      0.94        17\n",
      "          18       0.86      0.92      0.89        13\n",
      "          19       0.93      0.76      0.84        17\n",
      "          20       0.59      0.67      0.62        15\n",
      "          21       0.83      0.94      0.88        16\n",
      "          22       0.75      0.86      0.80        14\n",
      "          23       0.91      0.88      0.89        24\n",
      "          24       0.70      0.70      0.70        10\n",
      "          25       0.88      0.67      0.76        21\n",
      "          26       0.91      0.91      0.91        23\n",
      "          27       0.70      0.82      0.76        17\n",
      "          28       0.75      0.92      0.83        13\n",
      "          29       1.00      1.00      1.00        10\n",
      "          30       0.91      0.71      0.80        14\n",
      "          31       1.00      0.94      0.97        17\n",
      "          32       0.62      0.59      0.61        17\n",
      "          33       1.00      0.92      0.96        12\n",
      "          34       0.68      0.83      0.75        18\n",
      "          35       0.95      0.91      0.93        22\n",
      "          36       0.89      0.64      0.74        25\n",
      "          37       0.83      0.91      0.87        11\n",
      "          38       0.86      0.75      0.80         8\n",
      "          39       0.90      0.69      0.78        13\n",
      "          40       0.73      0.89      0.80         9\n",
      "          41       0.79      0.88      0.83        17\n",
      "          42       0.74      0.95      0.83        21\n",
      "          43       0.71      1.00      0.83        20\n",
      "          44       0.60      0.55      0.57        11\n",
      "          45       0.85      0.94      0.89        18\n",
      "          46       0.50      0.45      0.48        11\n",
      "          47       0.91      0.91      0.91        22\n",
      "          48       0.96      0.96      0.96        27\n",
      "          49       0.68      0.76      0.72        17\n",
      "          50       0.62      0.71      0.67         7\n",
      "          51       0.79      0.71      0.75        21\n",
      "          52       0.89      0.94      0.91        17\n",
      "          53       0.87      0.72      0.79        18\n",
      "          54       0.84      0.76      0.80        21\n",
      "          55       0.76      0.62      0.68        21\n",
      "          56       0.67      0.71      0.69        17\n",
      "          57       1.00      0.83      0.91        12\n",
      "          58       0.73      0.62      0.67        13\n",
      "          59       0.79      0.88      0.83        17\n",
      "          60       0.94      0.89      0.92        19\n",
      "          61       0.63      0.86      0.73        14\n",
      "          62       1.00      0.82      0.90        17\n",
      "          63       0.80      0.95      0.87        21\n",
      "          64       0.81      0.85      0.83        26\n",
      "          65       1.00      0.94      0.97        17\n",
      "          66       0.72      0.93      0.81        14\n",
      "          67       0.57      0.94      0.71        17\n",
      "          68       0.58      0.54      0.56        13\n",
      "          69       0.58      0.47      0.52        15\n",
      "          70       1.00      0.55      0.71        20\n",
      "          71       0.83      0.71      0.77        21\n",
      "          72       0.93      0.87      0.90        15\n",
      "          73       1.00      0.85      0.92        13\n",
      "          74       0.88      0.85      0.87        27\n",
      "          75       0.85      0.94      0.89        18\n",
      "          76       1.00      0.92      0.96        12\n",
      "          77       0.96      0.88      0.92        25\n",
      "          78       0.38      0.27      0.32        11\n",
      "          79       0.80      0.73      0.76        22\n",
      "          80       0.90      0.95      0.93        20\n",
      "          81       0.80      0.94      0.86        17\n",
      "          82       0.95      0.86      0.90        21\n",
      "          83       0.62      0.91      0.74        11\n",
      "          84       0.78      0.82      0.80        17\n",
      "          85       0.80      0.80      0.80        10\n",
      "          86       0.65      0.62      0.63        21\n",
      "          87       0.68      0.88      0.77        17\n",
      "          88       0.90      0.90      0.90        20\n",
      "          89       0.65      0.65      0.65        23\n",
      "          90       0.87      0.76      0.81        17\n",
      "          91       0.85      0.69      0.76        16\n",
      "          92       0.80      0.84      0.82        19\n",
      "          93       0.80      0.89      0.84        18\n",
      "          94       0.79      0.79      0.79        19\n",
      "          95       0.80      0.91      0.85        22\n",
      "          96       0.85      0.92      0.88        12\n",
      "          97       0.83      1.00      0.91        10\n",
      "          98       1.00      0.94      0.97        16\n",
      "          99       0.76      0.68      0.72        19\n",
      "         100       0.94      0.94      0.94        17\n",
      "         101       0.80      0.75      0.77        16\n",
      "         102       1.00      1.00      1.00        18\n",
      "         103       0.96      0.96      0.96        23\n",
      "         104       0.47      0.39      0.42        18\n",
      "         105       1.00      0.82      0.90        17\n",
      "         106       0.92      0.86      0.89        14\n",
      "         107       0.73      0.65      0.69        17\n",
      "         108       0.79      0.96      0.87        24\n",
      "         109       0.94      0.75      0.83        20\n",
      "         110       0.93      0.87      0.90        15\n",
      "         111       0.80      0.62      0.70        13\n",
      "         112       1.00      0.88      0.94        17\n",
      "         113       0.83      0.91      0.87        11\n",
      "         114       0.85      0.92      0.88        12\n",
      "         115       0.94      0.68      0.79        22\n",
      "         116       0.67      0.77      0.71        13\n",
      "         117       0.88      0.93      0.90        15\n",
      "         118       1.00      0.80      0.89        10\n",
      "         119       0.67      0.77      0.71        13\n",
      "\n",
      "    accuracy                           0.81      2045\n",
      "   macro avg       0.81      0.81      0.80      2045\n",
      "weighted avg       0.82      0.81      0.81      2045\n",
      "\n"
     ]
    }
   ],
   "source": [
    "from sklearn.metrics import classification_report\n",
    "print(classification_report(np.array(y_test)[0], y_pred_int))\n",
    "### numbers back to breeds name"
   ]
  },
  {
   "cell_type": "markdown",
   "id": "0f0390ba",
   "metadata": {},
   "source": [
    "### Visually observing some predictions of Model 1 on test data "
   ]
  },
  {
   "cell_type": "code",
   "execution_count": 217,
   "id": "072bfc20",
   "metadata": {},
   "outputs": [],
   "source": [
    "def resize_image(img, label):\n",
    "    img = tf.cast(img, tf.float32)\n",
    "    img = tf.image.resize(img, (224, 224))\n",
    "    img = img / 255.0\n",
    "    return img, label\n",
    "\n",
    "\n",
    "for i in range(16):\n",
    "    for x in X_test\n",
    "    ##img = load_img(f'dog-breed-identification/mytest/{i}.jpg')\n",
    "    img_array = img_to_array(img)\n",
    "    img_resized, _ = resize_image(img_array, _)\n",
    "    img_expended = np.expand_dims(img_resized, axis=0)\n",
    "    prediction = model_2.predict(img_expended)\n",
    "    breed = [k for k, v in label_to_int.items() if v == np.argmax(prediction[0])][0]\n",
    "    plt.subplot(4,4,i+1)\n",
    "    plt.tight_layout()\n",
    "    plt.xticks([])\n",
    "    plt.yticks([])\n",
    "    plt.imshow(img)\n",
    "    plt.xlabel(breed)"
   ]
  },
  {
   "cell_type": "code",
   "execution_count": 206,
   "id": "45e620ba",
   "metadata": {},
   "outputs": [],
   "source": []
  },
  {
   "cell_type": "markdown",
   "id": "26f48c74",
   "metadata": {},
   "source": [
    "### General Results of performance on classification Model 1.\n",
    "\n",
    "Training the model with MobileNetV2 architecture has performed learning very efficiently and has achieved training accuracy of 0.9965 in 15 epochs, and on test data has shown accuracy of 0.811. By looking at training loss and accuracy curves, we can be sure that model was learning during the training. According to classification report and confusion matrix, we can also conclude that model is learning and achieves the weighted average precision of 0.83. To observe and confirm the predictions, we have visualised some of the predictions on test data."
   ]
  },
  {
   "cell_type": "markdown",
   "id": "c84eb707",
   "metadata": {},
   "source": [
    "### Building the classification model : Model 2\n",
    "\n",
    "According to reference #2 (see Reference section in the end of the notebook!), ResNet - Residual Neural Network has continued the trend of increasing the depth of the model and it is widely used as it performs really well on classification tasks specifically. Therefore, our Model 2 will be based on ResNet50 architecture."
   ]
  },
  {
   "cell_type": "code",
   "execution_count": 114,
   "id": "8362c1e4",
   "metadata": {},
   "outputs": [],
   "source": [
    "base_layers_m2 = tf.keras.applications.resnet50.ResNet50(input_shape=(224, 224, 3), include_top=False)\n",
    "base_layers_m2.trainable = False"
   ]
  },
  {
   "cell_type": "code",
   "execution_count": 115,
   "id": "5d762ded",
   "metadata": {},
   "outputs": [],
   "source": [
    "model_2 = tf.keras.Sequential([\n",
    "    base_layers_m2, \n",
    "    GlobalAveragePooling2D(),\n",
    "    Dense(512, activation='relu'),\n",
    "    Dropout(0.5),\n",
    "    Dense(512, activation='relu'),\n",
    "    Dropout(0.5),\n",
    "    Dense(120, activation='softmax')])"
   ]
  },
  {
   "cell_type": "code",
   "execution_count": 116,
   "id": "b727fe27",
   "metadata": {},
   "outputs": [],
   "source": [
    "model_2.compile(optimizer='adam', loss=\"sparse_categorical_crossentropy\", metrics=['accuracy'])"
   ]
  },
  {
   "cell_type": "code",
   "execution_count": 119,
   "id": "2ce55c55",
   "metadata": {},
   "outputs": [
    {
     "name": "stdout",
     "output_type": "stream",
     "text": [
      "Epoch 1/15\n",
      "481/481 [==============================] - 510s 1s/step - loss: 4.7635 - accuracy: 0.0147\n",
      "Epoch 2/15\n",
      "481/481 [==============================] - 495s 1s/step - loss: 4.7455 - accuracy: 0.0149\n",
      "Epoch 3/15\n",
      "481/481 [==============================] - 474s 986ms/step - loss: 4.7305 - accuracy: 0.0168\n",
      "Epoch 4/15\n",
      "481/481 [==============================] - 476s 989ms/step - loss: 4.7228 - accuracy: 0.0163\n",
      "Epoch 5/15\n",
      "481/481 [==============================] - 473s 983ms/step - loss: 4.7252 - accuracy: 0.0158\n",
      "Epoch 6/15\n",
      "481/481 [==============================] - 476s 989ms/step - loss: 4.7070 - accuracy: 0.0175\n",
      "Epoch 7/15\n",
      "481/481 [==============================] - 465s 966ms/step - loss: 4.7022 - accuracy: 0.0174\n",
      "Epoch 8/15\n",
      "481/481 [==============================] - 466s 968ms/step - loss: 4.6930 - accuracy: 0.0170\n",
      "Epoch 9/15\n",
      "481/481 [==============================] - 472s 982ms/step - loss: 4.6884 - accuracy: 0.0185\n",
      "Epoch 10/15\n",
      "481/481 [==============================] - 467s 972ms/step - loss: 4.6785 - accuracy: 0.0186\n",
      "Epoch 11/15\n",
      "481/481 [==============================] - 471s 978ms/step - loss: 4.6738 - accuracy: 0.0191\n",
      "Epoch 12/15\n",
      "481/481 [==============================] - 462s 960ms/step - loss: 4.6674 - accuracy: 0.0202\n",
      "Epoch 13/15\n",
      "481/481 [==============================] - 477s 992ms/step - loss: 4.6608 - accuracy: 0.0204\n",
      "Epoch 14/15\n",
      "481/481 [==============================] - 470s 978ms/step - loss: 4.6588 - accuracy: 0.0212\n",
      "Epoch 15/15\n",
      "481/481 [==============================] - 470s 978ms/step - loss: 4.6519 - accuracy: 0.0201\n"
     ]
    }
   ],
   "source": [
    "history_2 = model_2.fit(train, epochs = 15, callbacks =[earlystopping], verbose = 1)"
   ]
  },
  {
   "cell_type": "markdown",
   "id": "b86e29a1",
   "metadata": {},
   "source": [
    "### Predicting Model 2 on test data"
   ]
  },
  {
   "cell_type": "code",
   "execution_count": 133,
   "id": "c4ce70da",
   "metadata": {},
   "outputs": [
    {
     "name": "stdout",
     "output_type": "stream",
     "text": [
      "64/64 [==============================] - 118s 2s/step\n",
      "The accuracy on test data is 0.018581907090464547\n"
     ]
    }
   ],
   "source": [
    "X_test, y_test = zip(*test)\n",
    "y_pred = model_2.predict(X_test[:1])\n",
    "y_pred_int = [np.argmax(pred) for pred in y_pred]\n",
    "accuracy = accuracy_score(np.array(y_test)[0], y_pred_int)\n",
    "print(\"The accuracy on test data is\", accuracy)"
   ]
  },
  {
   "cell_type": "markdown",
   "id": "3570f0e2",
   "metadata": {},
   "source": [
    "### Let's look at training accuracy and loss curves of Model 2"
   ]
  },
  {
   "cell_type": "code",
   "execution_count": 224,
   "id": "11473808",
   "metadata": {},
   "outputs": [
    {
     "ename": "AttributeError",
     "evalue": "'History' object has no attribute 'history_2'",
     "output_type": "error",
     "traceback": [
      "\u001b[0;31m---------------------------------------------------------------------------\u001b[0m",
      "\u001b[0;31mAttributeError\u001b[0m                            Traceback (most recent call last)",
      "Input \u001b[0;32mIn [224]\u001b[0m, in \u001b[0;36m<cell line: 1>\u001b[0;34m()\u001b[0m\n\u001b[0;32m----> 1\u001b[0m loss \u001b[38;5;241m=\u001b[39m \u001b[43mhistory_2\u001b[49m\u001b[38;5;241;43m.\u001b[39;49m\u001b[43mhistory_2\u001b[49m[\u001b[38;5;124m'\u001b[39m\u001b[38;5;124mloss\u001b[39m\u001b[38;5;124m'\u001b[39m]\n\u001b[1;32m      2\u001b[0m epochs \u001b[38;5;241m=\u001b[39m \u001b[38;5;28mrange\u001b[39m(\u001b[38;5;241m1\u001b[39m, \u001b[38;5;28mlen\u001b[39m(loss) \u001b[38;5;241m+\u001b[39m \u001b[38;5;241m1\u001b[39m)\n\u001b[1;32m      3\u001b[0m plt\u001b[38;5;241m.\u001b[39mplot(epochs, loss, \u001b[38;5;124m'\u001b[39m\u001b[38;5;124my\u001b[39m\u001b[38;5;124m'\u001b[39m, label\u001b[38;5;241m=\u001b[39m\u001b[38;5;124m'\u001b[39m\u001b[38;5;124mTraining loss\u001b[39m\u001b[38;5;124m'\u001b[39m)\n",
      "\u001b[0;31mAttributeError\u001b[0m: 'History' object has no attribute 'history_2'"
     ]
    }
   ],
   "source": [
    "loss = history_2.history_2['loss']\n",
    "epochs = range(1, len(loss) + 1)\n",
    "plt.plot(epochs, loss, 'y', label='Training loss')\n",
    "plt.title('Training loss curve')\n",
    "plt.xlabel('Epochs')\n",
    "plt.ylabel('Loss')\n",
    "plt.show()"
   ]
  },
  {
   "cell_type": "code",
   "execution_count": 134,
   "id": "004cc7a4",
   "metadata": {},
   "outputs": [
    {
     "ename": "AttributeError",
     "evalue": "'History' object has no attribute 'history_2'",
     "output_type": "error",
     "traceback": [
      "\u001b[0;31m---------------------------------------------------------------------------\u001b[0m",
      "\u001b[0;31mAttributeError\u001b[0m                            Traceback (most recent call last)",
      "Input \u001b[0;32mIn [134]\u001b[0m, in \u001b[0;36m<cell line: 1>\u001b[0;34m()\u001b[0m\n\u001b[0;32m----> 1\u001b[0m acc \u001b[38;5;241m=\u001b[39m \u001b[43mhistory\u001b[49m\u001b[38;5;241;43m.\u001b[39;49m\u001b[43mhistory_2\u001b[49m[\u001b[38;5;124m'\u001b[39m\u001b[38;5;124maccuracy\u001b[39m\u001b[38;5;124m'\u001b[39m]\n\u001b[1;32m      2\u001b[0m plt\u001b[38;5;241m.\u001b[39mplot(epochs, acc, \u001b[38;5;124m'\u001b[39m\u001b[38;5;124my\u001b[39m\u001b[38;5;124m'\u001b[39m, label\u001b[38;5;241m=\u001b[39m\u001b[38;5;124m'\u001b[39m\u001b[38;5;124mTraining accuracy\u001b[39m\u001b[38;5;124m'\u001b[39m, c \u001b[38;5;241m=\u001b[39m \u001b[38;5;124m\"\u001b[39m\u001b[38;5;124mr\u001b[39m\u001b[38;5;124m\"\u001b[39m)\n\u001b[1;32m      3\u001b[0m plt\u001b[38;5;241m.\u001b[39mtitle(\u001b[38;5;124m'\u001b[39m\u001b[38;5;124mTraining accuracy\u001b[39m\u001b[38;5;124m'\u001b[39m)\n",
      "\u001b[0;31mAttributeError\u001b[0m: 'History' object has no attribute 'history_2'"
     ]
    }
   ],
   "source": [
    "acc = history.history_2['accuracy']\n",
    "plt.plot(epochs, acc, 'y', label='Training accuracy', c = \"r\")\n",
    "plt.title('Training accuracy')\n",
    "plt.xlabel('Epochs')\n",
    "plt.ylabel('Accuracy')\n",
    "plt.show()"
   ]
  },
  {
   "cell_type": "markdown",
   "id": "78cd00c6",
   "metadata": {},
   "source": [
    "### Let's look at confusion matrix of Model 2! \n",
    "#### Since we have 120 breeds (classes) and confusion matrix of 120 classes looks pretty ugly, so here is the example of first 20 classes "
   ]
  },
  {
   "cell_type": "code",
   "execution_count": 135,
   "id": "99f3c7be",
   "metadata": {},
   "outputs": [
    {
     "data": {
      "image/png": "[encoded data removed]",
      "text/plain": [
       "<Figure size 432x288 with 2 Axes>"
      ]
     },
     "metadata": {
      "needs_background": "light"
     },
     "output_type": "display_data"
    }
   ],
   "source": [
    "from sklearn.metrics import confusion_matrix\n",
    "import seaborn as sns\n",
    "\n",
    "cm = confusion_matrix(np.array(y_test)[0], y_pred_int)\n",
    "\n",
    "## An example of confusion matrix for first 20 breeds (classes)\n",
    "ax = sns.heatmap(cm[:20, :20], annot=True, fmt=\".0f\")\n",
    "ax.xaxis.tick_top()"
   ]
  },
  {
   "cell_type": "markdown",
   "id": "c326ae39",
   "metadata": {},
   "source": [
    "### Performance of classification model: Model 2"
   ]
  },
  {
   "cell_type": "code",
   "execution_count": 225,
   "id": "9f962e23",
   "metadata": {},
   "outputs": [
    {
     "name": "stdout",
     "output_type": "stream",
     "text": [
      "              precision    recall  f1-score   support\n",
      "\n",
      "           0       0.00      0.00      0.00        25\n",
      "           1       0.00      0.00      0.00        14\n",
      "           2       0.00      0.00      0.00        17\n",
      "           3       0.00      0.00      0.00        17\n",
      "           4       0.00      0.00      0.00        12\n",
      "           5       0.00      0.00      0.00        25\n",
      "           6       0.00      0.00      0.00        11\n",
      "           7       0.06      0.12      0.08        24\n",
      "           8       0.01      0.71      0.03        17\n",
      "           9       0.00      0.00      0.00        10\n",
      "          10       0.00      0.00      0.00        18\n",
      "          11       0.08      0.07      0.08        28\n",
      "          12       0.00      0.00      0.00        12\n",
      "          13       0.00      0.00      0.00        19\n",
      "          14       0.00      0.00      0.00        24\n",
      "          15       0.00      0.00      0.00        21\n",
      "          16       0.00      0.00      0.00        20\n",
      "          17       0.00      0.00      0.00        17\n",
      "          18       0.00      0.00      0.00        13\n",
      "          19       0.00      0.00      0.00        17\n",
      "          20       0.00      0.00      0.00        15\n",
      "          21       0.00      0.00      0.00        16\n",
      "          22       0.00      0.00      0.00        14\n",
      "          23       0.00      0.00      0.00        24\n",
      "          24       0.00      0.00      0.00        10\n",
      "          25       0.00      0.00      0.00        21\n",
      "          26       0.00      0.00      0.00        23\n",
      "          27       0.00      0.00      0.00        17\n",
      "          28       0.00      0.00      0.00        13\n",
      "          29       0.00      0.00      0.00        10\n",
      "          30       0.00      0.00      0.00        14\n",
      "          31       0.00      0.00      0.00        17\n",
      "          32       0.00      0.00      0.00        17\n",
      "          33       0.00      0.00      0.00        12\n",
      "          34       0.00      0.00      0.00        18\n",
      "          35       0.00      0.00      0.00        22\n",
      "          36       0.00      0.00      0.00        25\n",
      "          37       0.00      0.00      0.00        11\n",
      "          38       0.00      0.00      0.00         8\n",
      "          39       0.00      0.00      0.00        13\n",
      "          40       0.00      0.00      0.00         9\n",
      "          41       0.00      0.00      0.00        17\n",
      "          42       0.00      0.00      0.00        21\n",
      "          43       0.00      0.00      0.00        20\n",
      "          44       0.00      0.00      0.00        11\n",
      "          45       0.00      0.00      0.00        18\n",
      "          46       0.00      0.00      0.00        11\n",
      "          47       0.00      0.00      0.00        22\n",
      "          48       0.00      0.00      0.00        27\n",
      "          49       0.00      0.00      0.00        17\n",
      "          50       0.00      0.00      0.00         7\n",
      "          51       0.00      0.00      0.00        21\n",
      "          52       0.00      0.00      0.00        17\n",
      "          53       0.00      0.00      0.00        18\n",
      "          54       0.02      0.52      0.04        21\n",
      "          55       0.00      0.00      0.00        21\n",
      "          56       0.00      0.00      0.00        17\n",
      "          57       0.00      0.00      0.00        12\n",
      "          58       0.00      0.00      0.00        13\n",
      "          59       0.01      0.12      0.02        17\n",
      "          60       0.00      0.00      0.00        19\n",
      "          61       0.00      0.00      0.00        14\n",
      "          62       0.00      0.00      0.00        17\n",
      "          63       0.00      0.00      0.00        21\n",
      "          64       0.00      0.00      0.00        26\n",
      "          65       0.00      0.00      0.00        17\n",
      "          66       0.00      0.00      0.00        14\n",
      "          67       0.00      0.00      0.00        17\n",
      "          68       0.00      0.00      0.00        13\n",
      "          69       0.00      0.00      0.00        15\n",
      "          70       0.00      0.00      0.00        20\n",
      "          71       0.00      0.00      0.00        21\n",
      "          72       0.00      0.00      0.00        15\n",
      "          73       0.00      0.00      0.00        13\n",
      "          74       0.00      0.00      0.00        27\n",
      "          75       0.00      0.00      0.00        18\n",
      "          76       0.00      0.00      0.00        12\n",
      "          77       0.00      0.00      0.00        25\n",
      "          78       0.00      0.00      0.00        11\n",
      "          79       0.00      0.00      0.00        22\n",
      "          80       0.00      0.00      0.00        20\n",
      "          81       0.00      0.00      0.00        17\n",
      "          82       0.00      0.00      0.00        21\n",
      "          83       0.00      0.00      0.00        11\n",
      "          84       0.00      0.00      0.00        17\n",
      "          85       0.00      0.00      0.00        10\n",
      "          86       0.00      0.00      0.00        21\n",
      "          87       0.00      0.00      0.00        17\n",
      "          88       0.00      0.00      0.00        20\n",
      "          89       0.00      0.00      0.00        23\n",
      "          90       0.00      0.00      0.00        17\n",
      "          91       0.00      0.00      0.00        16\n",
      "          92       0.00      0.00      0.00        19\n",
      "          93       0.00      0.00      0.00        18\n",
      "          94       0.00      0.00      0.00        19\n",
      "          95       0.00      0.00      0.00        22\n",
      "          96       0.00      0.00      0.00        12\n",
      "          97       0.00      0.00      0.00        10\n",
      "          98       0.00      0.00      0.00        16\n",
      "          99       0.00      0.00      0.00        19\n",
      "         100       0.00      0.00      0.00        17\n",
      "         101       0.00      0.00      0.00        16\n",
      "         102       0.00      0.00      0.00        18\n",
      "         103       0.03      0.35      0.05        23\n",
      "         104       0.00      0.00      0.00        18\n",
      "         105       0.00      0.00      0.00        17\n",
      "         106       0.00      0.00      0.00        14\n",
      "         107       0.00      0.00      0.00        17\n",
      "         108       0.00      0.00      0.00        24\n",
      "         109       0.00      0.00      0.00        20\n",
      "         110       0.00      0.00      0.00        15\n",
      "         111       0.00      0.00      0.00        13\n",
      "         112       0.00      0.00      0.00        17\n",
      "         113       0.00      0.00      0.00        11\n",
      "         114       0.00      0.00      0.00        12\n",
      "         115       0.00      0.00      0.00        22\n",
      "         116       0.00      0.00      0.00        13\n",
      "         117       0.00      0.00      0.00        15\n",
      "         118       0.00      0.00      0.00        10\n",
      "         119       0.00      0.00      0.00        13\n",
      "\n",
      "    accuracy                           0.02      2045\n",
      "   macro avg       0.00      0.02      0.00      2045\n",
      "weighted avg       0.00      0.02      0.00      2045\n",
      "\n"
     ]
    }
   ],
   "source": [
    "from sklearn.metrics import classification_report\n",
    "print(classification_report(np.array(y_test)[0], y_pred_int))\n",
    "### change numbers back to name of breeds"
   ]
  },
  {
   "cell_type": "markdown",
   "id": "b426c071",
   "metadata": {},
   "source": [
    "### Visually observing some predictions of Model 2 on test data "
   ]
  },
  {
   "cell_type": "code",
   "execution_count": null,
   "id": "a6965749",
   "metadata": {},
   "outputs": [],
   "source": [
    "def resize_image(img, label):\n",
    "    img = tf.cast(img, tf.float32)\n",
    "    img = tf.image.resize(img, (224, 224))\n",
    "    img = img / 255.0\n",
    "    return img, label\n",
    "\n",
    "for i in range(16):\n",
    "    img = load_img(f'dog-breed-identification/mytest/{i}.jpg')\n",
    "    img_array = img_to_array(img)\n",
    "    img_resized, _ = resize_image(img_array, _)\n",
    "    img_expended = np.expand_dims(img_resized, axis=0)\n",
    "    prediction = model_2.predict(img_expended)\n",
    "    breed = [k for k, v in label_to_int.items() if v == np.argmax(prediction[0])][0]\n",
    "    plt.subplot(4,4,i+1)\n",
    "    plt.tight_layout()\n",
    "    plt.xticks([])\n",
    "    plt.yticks([])\n",
    "    plt.imshow(img)\n",
    "    plt.xlabel(breed)\n"
   ]
  },
  {
   "cell_type": "markdown",
   "id": "63990e8d",
   "metadata": {},
   "source": [
    "### General Results of performance on classification Model 2."
   ]
  },
  {
   "cell_type": "markdown",
   "id": "ca400f6d",
   "metadata": {},
   "source": [
    "## Conclusion"
   ]
  },
  {
   "cell_type": "markdown",
   "id": "89558e6e",
   "metadata": {},
   "source": [
    "# References\n",
    "1. https://arxiv.org/abs/1704.04861v1\n",
    "2. https://www.superb-ai.com/blog/how-to-select-better-convnet-architectures-for-image-classification-tasks\n",
    "3. https://www.youtube.com/watch?v=PHdw0Uk_Lc4"
   ]
  },
  {
   "cell_type": "code",
   "execution_count": null,
   "id": "711b4d3e",
   "metadata": {},
   "outputs": [],
   "source": []
  }
 ],
 "metadata": {
  "kernelspec": {
   "display_name": "Python 3 (ipykernel)",
   "language": "python",
   "name": "python3"
  },
  "language_info": {
   "codemirror_mode": {
    "name": "ipython",
    "version": 3
   },
   "file_extension": ".py",
   "mimetype": "text/x-python",
   "name": "python",
   "nbconvert_exporter": "python",
   "pygments_lexer": "ipython3",
   "version": "3.9.12"
  }
 },
 "nbformat": 4,
 "nbformat_minor": 5
}
